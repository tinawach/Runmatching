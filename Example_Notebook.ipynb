{
 "cells": [
  {
   "cell_type": "code",
   "execution_count": 1,
   "id": "c1f37c58-f8e5-4f04-ae3e-342de01e613f",
   "metadata": {},
   "outputs": [],
   "source": [
    "import sys\n",
    "import numpy as np\n",
    "from scipy.stats import norm\n",
    "import pandas as pd\n",
    "import matplotlib.pyplot as plt\n",
    "from matplotlib.gridspec import GridSpec\n",
    "from pathlib import Path\n",
    "from astropy import units as u\n",
    "from astropy.coordinates import SkyCoord\n",
    "from regions import CircleSkyRegion, RectangleSkyRegion\n",
    "from gammapy.maps import WcsGeom, MapAxis, Map, WcsNDMap\n",
    "from gammapy.makers import MapDatasetMaker, SafeMaskMaker, FoVBackgroundMaker\n",
    "from gammapy.data import DataStore\n",
    "from gammapy.datasets import Datasets, FluxPointsDataset, MapDataset\n",
    "from gammapy.modeling import Fit\n",
    "from gammapy.modeling.models import SkyModel, LogParabolaSpectralModel, PointSpatialModel, PowerLawSpectralModel, FoVBackgroundModel, Models\n",
    "from gammapy.estimators import FluxPoints,FluxPointsEstimator, ExcessMapEstimator\n",
    "import runmatching_analysis as util"
   ]
  },
  {
   "cell_type": "code",
   "execution_count": 5,
   "id": "b8c1a579-9a25-4be4-8b54-461695687545",
   "metadata": {},
   "outputs": [],
   "source": [
    "def save(fig, filename):\n",
    "    savedir = '{}'.format(plotDir)\n",
    "    for form in ['png', 'pdf']:\n",
    "        fig.savefig('{}/{}.{}'.format(plotDir, filename, form),dpi=150, bbox_inches = \"tight\")"
   ]
  },
  {
   "cell_type": "markdown",
   "id": "c99e01a7-1f91-4547-8ca6-879aafab6998",
   "metadata": {},
   "source": [
    "# Load the Runlist"
   ]
  },
  {
   "cell_type": "code",
   "execution_count": 6,
   "id": "83347071-115e-4d4a-bd72-ca521c8f01b1",
   "metadata": {},
   "outputs": [
    {
     "name": "stdout",
     "output_type": "stream",
     "text": [
      "/home/wecapstor1/caph/shared/hess/fits/fits_data/prod05/hess1/std_ImPACT_fullEnclosure_updated\n"
     ]
    }
   ],
   "source": [
    "# load the data and the background model\n",
    "# requirement: A runlist with ON runs in the first column, OFF runs in the second and fractional run deviation in the third.\n",
    "data_path = '/path/to/runlist'\n",
    "runs = np.loadtxt(data_path, usecols=(0,), dtype=int)\n",
    "off_runs = np.loadtxt(data_path, usecols=(1,), dtype=int)\n",
    "deviation = np.loadtxt(data_path, usecols=(2,), dtype=float)\n",
    "\n",
    "basedir = '/path/to/fits/files'\n",
    "print(basedir)\n",
    "ds = DataStore.from_dir(basedir,\n",
    "                           'hdu-index.fits.gz'.format(bgmodel_version),\n",
    "                           'obs-index.fits.gz'.format(bgmodel_version))\n",
    "obs_list = ds.get_observations(runs) \n",
    "obs_list_off = ds.get_observations(off_runs)"
   ]
  },
  {
   "cell_type": "code",
   "execution_count": 7,
   "id": "19c06467-4cd2-4960-a547-da4e45aa0199",
   "metadata": {},
   "outputs": [
    {
     "name": "stdout",
     "output_type": "stream",
     "text": [
      "Mean fractional run deviation: 0.3496839763066876\n",
      "Livetime: 1.8727777777777768\n",
      "Zenith Angle range: 45.368176 48.61021\n",
      "The OFF run targets are: ['GRB 050209', 'M 87']\n"
     ]
    }
   ],
   "source": [
    "livetime = []\n",
    "zenith = []\n",
    "for i in range(0,len(obs_list)):\n",
    "    livetime.append(obs_list[i].observation_live_time_duration.value)\n",
    "    zenith.append(ds.obs_table[ds.obs_table['OBS_ID']==obs_list[i].obs_id][\"ZEN_PNT\"])\n",
    "\n",
    "target_names = []\n",
    "for run in off_runs:\n",
    "    name = DB_general[DB_general['Run']==run]['Target_Name'].iloc[0]\n",
    "    if name not in target_names:\n",
    "        target_names.append(name)\n",
    "\n",
    "print('Mean fractional run deviation:', np.mean(deviation))\n",
    "print('Livetime:',np.sum(livetime)/3600)\n",
    "print('Zenith Angle range:',np.min(zenith), np.max(zenith))\n",
    "print('The OFF run targets are:', target_names)"
   ]
  },
  {
   "cell_type": "markdown",
   "id": "be8e3fc1-6b0c-4313-ba48-7309b17e2fb8",
   "metadata": {},
   "source": [
    "# Create the dataset"
   ]
  },
  {
   "cell_type": "code",
   "execution_count": 8,
   "id": "8902901a-eca2-413b-ace7-9140d9a78443",
   "metadata": {},
   "outputs": [],
   "source": [
    "#define the target geometry of the dataset\n",
    "ra_obj = 83.6292\n",
    "dec_obj = 22.0125\n",
    "name_obj = 'Crab'\n",
    "target = SkyCoord(ra_obj, dec_obj, frame='icrs', unit='deg')\n",
    "\n",
    "e_reco = np.logspace(-1, 2, 25) * u.TeV \n",
    "e_true = np.logspace(-1, 2, 49) * u.TeV \n",
    "\n",
    "energy_axis = MapAxis.from_edges(e_reco, unit='TeV', name='energy', interp='log')\n",
    "energy_axis_true = MapAxis.from_edges(e_true, unit='TeV', name=\"energy_true\", interp='log')\n",
    "\n",
    "geom = WcsGeom.create(\n",
    "    skydir=(ra_obj, dec_obj),\n",
    "    binsz=0.02,\n",
    "    width=(7, 7),\n",
    "    frame=\"icrs\",\n",
    "    proj=\"CAR\",\n",
    "    axes=[energy_axis],)"
   ]
  },
  {
   "cell_type": "code",
   "execution_count": 73,
   "id": "4acddcc1-d953-4c77-8f80-595456a992be",
   "metadata": {},
   "outputs": [],
   "source": [
    "# load the file in which your systematic errors are saved\n",
    "systematic_shift = pd.read_csv (\n",
    "    '/path/to/systematic/error/file.csv', sep='\\t'\n",
    ")\n",
    "systematic_shift = systematic_shift.fillna(0)"
   ]
  },
  {
   "cell_type": "code",
   "execution_count": 74,
   "id": "e9d54a69-3e73-4122-b924-6051230e10f5",
   "metadata": {},
   "outputs": [],
   "source": [
    "dataset_creator = util.matching_dataset(systematic_shift, ds, obs_list, obs_list_off, deviation, geom, energy_axis_true, offset_max=2.0* u.deg)"
   ]
  },
  {
   "cell_type": "code",
   "execution_count": 75,
   "id": "316d144d-cb8e-4066-9db7-db49aecd75e4",
   "metadata": {
    "scrolled": true
   },
   "outputs": [
    {
     "name": "stderr",
     "output_type": "stream",
     "text": [
      "Missing 'HDUCLAS2' keyword assuming 'BKG'\n",
      "Missing 'HDUCLAS2' keyword assuming 'BKG'\n"
     ]
    },
    {
     "name": "stdout",
     "output_type": "stream",
     "text": [
      "23523\n"
     ]
    },
    {
     "name": "stderr",
     "output_type": "stream",
     "text": [
      "Missing 'HDUCLAS2' keyword assuming 'BKG'\n",
      "Missing 'HDUCLAS2' keyword assuming 'BKG'\n"
     ]
    },
    {
     "name": "stdout",
     "output_type": "stream",
     "text": [
      "23526\n"
     ]
    },
    {
     "name": "stderr",
     "output_type": "stream",
     "text": [
      "Missing 'HDUCLAS2' keyword assuming 'BKG'\n",
      "Missing 'HDUCLAS2' keyword assuming 'BKG'\n"
     ]
    },
    {
     "name": "stdout",
     "output_type": "stream",
     "text": [
      "23559\n"
     ]
    },
    {
     "name": "stderr",
     "output_type": "stream",
     "text": [
      "Missing 'HDUCLAS2' keyword assuming 'BKG'\n",
      "Missing 'HDUCLAS2' keyword assuming 'BKG'\n"
     ]
    },
    {
     "name": "stdout",
     "output_type": "stream",
     "text": [
      "23592\n"
     ]
    }
   ],
   "source": [
    "stacked = dataset_creator.compute_matched_dataset( corrections='all', systematics=None, debug=0)\n",
    "stacked.write('{}/dataset-crab_corr.fits.gz'.format(outputBase), overwrite=True)"
   ]
  },
  {
   "cell_type": "code",
   "execution_count": 76,
   "id": "8382dcfa-2b89-43ff-8f0a-f8970533b869",
   "metadata": {
    "scrolled": true
   },
   "outputs": [
    {
     "name": "stderr",
     "output_type": "stream",
     "text": [
      "Missing 'HDUCLAS2' keyword assuming 'BKG'\n",
      "Missing 'HDUCLAS2' keyword assuming 'BKG'\n"
     ]
    },
    {
     "name": "stdout",
     "output_type": "stream",
     "text": [
      "23523\n"
     ]
    },
    {
     "name": "stderr",
     "output_type": "stream",
     "text": [
      "Missing 'HDUCLAS2' keyword assuming 'BKG'\n",
      "Missing 'HDUCLAS2' keyword assuming 'BKG'\n"
     ]
    },
    {
     "name": "stdout",
     "output_type": "stream",
     "text": [
      "23526\n"
     ]
    },
    {
     "name": "stderr",
     "output_type": "stream",
     "text": [
      "Missing 'HDUCLAS2' keyword assuming 'BKG'\n",
      "Missing 'HDUCLAS2' keyword assuming 'BKG'\n"
     ]
    },
    {
     "name": "stdout",
     "output_type": "stream",
     "text": [
      "23559\n"
     ]
    },
    {
     "name": "stderr",
     "output_type": "stream",
     "text": [
      "Missing 'HDUCLAS2' keyword assuming 'BKG'\n",
      "Missing 'HDUCLAS2' keyword assuming 'BKG'\n"
     ]
    },
    {
     "name": "stdout",
     "output_type": "stream",
     "text": [
      "23592\n"
     ]
    }
   ],
   "source": [
    "stacked_low = dataset_creator.compute_matched_dataset( corrections='all', systematics='low', debug=0)\n",
    "stacked_low.write('{}/dataset-crab_low.fits.gz'.format(outputBase), overwrite=True)"
   ]
  },
  {
   "cell_type": "code",
   "execution_count": 77,
   "id": "3956543b-f16e-4fc2-8a23-fe4a508884f0",
   "metadata": {
    "scrolled": true
   },
   "outputs": [
    {
     "name": "stderr",
     "output_type": "stream",
     "text": [
      "Missing 'HDUCLAS2' keyword assuming 'BKG'\n",
      "Missing 'HDUCLAS2' keyword assuming 'BKG'\n"
     ]
    },
    {
     "name": "stdout",
     "output_type": "stream",
     "text": [
      "23523\n"
     ]
    },
    {
     "name": "stderr",
     "output_type": "stream",
     "text": [
      "Missing 'HDUCLAS2' keyword assuming 'BKG'\n",
      "Missing 'HDUCLAS2' keyword assuming 'BKG'\n"
     ]
    },
    {
     "name": "stdout",
     "output_type": "stream",
     "text": [
      "23526\n"
     ]
    },
    {
     "name": "stderr",
     "output_type": "stream",
     "text": [
      "Missing 'HDUCLAS2' keyword assuming 'BKG'\n",
      "Missing 'HDUCLAS2' keyword assuming 'BKG'\n"
     ]
    },
    {
     "name": "stdout",
     "output_type": "stream",
     "text": [
      "23559\n"
     ]
    },
    {
     "name": "stderr",
     "output_type": "stream",
     "text": [
      "Missing 'HDUCLAS2' keyword assuming 'BKG'\n",
      "Missing 'HDUCLAS2' keyword assuming 'BKG'\n"
     ]
    },
    {
     "name": "stdout",
     "output_type": "stream",
     "text": [
      "23592\n"
     ]
    }
   ],
   "source": [
    "stacked_high = dataset_creator.compute_matched_dataset( corrections='all', systematics='high', debug=0)\n",
    "stacked_high.write('{}/dataset-crab_high.fits.gz'.format(outputBase), overwrite=True)"
   ]
  },
  {
   "cell_type": "code",
   "execution_count": 78,
   "id": "0b830d65-d65c-498b-a3a2-8d77e7f92b29",
   "metadata": {},
   "outputs": [
    {
     "name": "stderr",
     "output_type": "stream",
     "text": [
      "Missing 'HDUCLAS2' keyword assuming 'BKG'\n",
      "Missing 'HDUCLAS2' keyword assuming 'BKG'\n",
      "Missing 'HDUCLAS2' keyword assuming 'BKG'\n",
      "Missing 'HDUCLAS2' keyword assuming 'BKG'\n"
     ]
    }
   ],
   "source": [
    "stacked_fov = dataset_creator.standard_dataset(debug=0)\n",
    "stacked_fov.write('{}/dataset-crab_fov.fits.gz'.format(outputBase), overwrite=True)"
   ]
  },
  {
   "cell_type": "code",
   "execution_count": null,
   "id": "ac98c79d-5f29-407c-b36b-58820fa7a6fb",
   "metadata": {},
   "outputs": [],
   "source": []
  },
  {
   "cell_type": "code",
   "execution_count": null,
   "id": "f467684e-aec6-4d1f-9c64-d7ee68f2f9cd",
   "metadata": {},
   "outputs": [],
   "source": []
  }
 ],
 "metadata": {
  "kernelspec": {
   "display_name": "Python 3 (ipykernel)",
   "language": "python",
   "name": "python3"
  },
  "language_info": {
   "codemirror_mode": {
    "name": "ipython",
    "version": 3
   },
   "file_extension": ".py",
   "mimetype": "text/x-python",
   "name": "python",
   "nbconvert_exporter": "python",
   "pygments_lexer": "ipython3",
   "version": "3.10.14"
  }
 },
 "nbformat": 4,
 "nbformat_minor": 5
}
